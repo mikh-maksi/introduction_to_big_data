{
  "nbformat": 4,
  "nbformat_minor": 0,
  "metadata": {
    "colab": {
      "provenance": [],
      "authorship_tag": "ABX9TyMbtWho2ed5GrDMIM6TDfHt",
      "include_colab_link": true
    },
    "kernelspec": {
      "name": "python3",
      "display_name": "Python 3"
    },
    "language_info": {
      "name": "python"
    }
  },
  "cells": [
    {
      "cell_type": "markdown",
      "metadata": {
        "id": "view-in-github",
        "colab_type": "text"
      },
      "source": [
        "<a href=\"https://colab.research.google.com/github/mikh-maksi/introduction_to_big_data/blob/main/Basics_of_Python.ipynb\" target=\"_parent\"><img src=\"https://colab.research.google.com/assets/colab-badge.svg\" alt=\"Open In Colab\"/></a>"
      ]
    },
    {
      "cell_type": "markdown",
      "source": [
        "#Output\n",
        "Simplest action in any programming language is output some string.\n",
        "By tradition first command, that programmers execute on new programming language is \"Hello, World\"  \n",
        "\n",
        "  \n",
        "In Python we use command **print** to output strings (also as numbers and other data types)"
      ],
      "metadata": {
        "id": "jlsRlSVdl3Os"
      }
    },
    {
      "cell_type": "code",
      "execution_count": null,
      "metadata": {
        "colab": {
          "base_uri": "https://localhost:8080/"
        },
        "id": "EooiHcqely5K",
        "outputId": "a845ed59-0e0d-4405-e52b-44f605a2c2a0"
      },
      "outputs": [
        {
          "output_type": "stream",
          "name": "stdout",
          "text": [
            "Hello, World\n"
          ]
        }
      ],
      "source": [
        "print(\"Hello, World\")"
      ]
    },
    {
      "cell_type": "markdown",
      "source": [
        "If we work with strings, we need to use quotes on the beginning and on the end of string as \"Hello, World\"."
      ],
      "metadata": {
        "id": "f21N8KyEmj7e"
      }
    },
    {
      "cell_type": "markdown",
      "source": [
        "## Task 1\n",
        "1. Output your name."
      ],
      "metadata": {
        "id": "H0WgH5_9m1z1"
      }
    },
    {
      "cell_type": "code",
      "source": [
        "print(\"Mykhailo\")"
      ],
      "metadata": {
        "colab": {
          "base_uri": "https://localhost:8080/"
        },
        "id": "b1exs2mHm9Hc",
        "outputId": "d582b4f4-851d-4e3b-b2bf-924fd24f9951"
      },
      "execution_count": null,
      "outputs": [
        {
          "output_type": "stream",
          "name": "stdout",
          "text": [
            "Mykhailo\n"
          ]
        }
      ]
    },
    {
      "cell_type": "markdown",
      "source": [
        "## Numbers\n",
        "In **Python** like other programming languages, we have a few data types. We already known with strings (\"Hello, World\"). The most common data type is **intrger**. Let out integer as number of year."
      ],
      "metadata": {
        "id": "FAvsRGzknFOU"
      }
    },
    {
      "cell_type": "markdown",
      "source": [],
      "metadata": {
        "id": "bTsQGGYQy1zt"
      }
    },
    {
      "cell_type": "code",
      "source": [
        "print(2024)"
      ],
      "metadata": {
        "colab": {
          "base_uri": "https://localhost:8080/"
        },
        "id": "mvXuy8nAn8es",
        "outputId": "473a060d-7690-404a-ce7d-33657dd810d0"
      },
      "execution_count": null,
      "outputs": [
        {
          "output_type": "stream",
          "name": "stdout",
          "text": [
            "2024\n"
          ]
        }
      ]
    },
    {
      "cell_type": "markdown",
      "source": [
        "As you see, we use integer type of data without quots."
      ],
      "metadata": {
        "id": "zxFuSZkBn-7r"
      }
    },
    {
      "cell_type": "markdown",
      "source": [
        "## Task 2. Year of birth\n",
        "Output number of year of your birth."
      ],
      "metadata": {
        "id": "qO4cmmc3oG9z"
      }
    },
    {
      "cell_type": "code",
      "source": [
        "print(1985)"
      ],
      "metadata": {
        "colab": {
          "base_uri": "https://localhost:8080/"
        },
        "id": "t4InL-_loWcr",
        "outputId": "6d8bd4ce-186f-465c-b88f-f15376e22655"
      },
      "execution_count": null,
      "outputs": [
        {
          "output_type": "stream",
          "name": "stdout",
          "text": [
            "1985\n"
          ]
        }
      ]
    },
    {
      "cell_type": "markdown",
      "source": [
        "## Operators\n",
        "There are some operators avaliable for use with integer.  \n",
        "Simplest are arithmetic operators: +,-,*,/\n"
      ],
      "metadata": {
        "id": "O5_E8dKUobdT"
      }
    },
    {
      "cell_type": "code",
      "source": [
        "print(2+3)"
      ],
      "metadata": {
        "colab": {
          "base_uri": "https://localhost:8080/"
        },
        "id": "_BO1y9BoouoS",
        "outputId": "f42127c1-269a-4884-867d-5af318d73128"
      },
      "execution_count": null,
      "outputs": [
        {
          "output_type": "stream",
          "name": "stdout",
          "text": [
            "5\n"
          ]
        }
      ]
    },
    {
      "cell_type": "code",
      "source": [
        "print(45-6)"
      ],
      "metadata": {
        "colab": {
          "base_uri": "https://localhost:8080/"
        },
        "id": "M6LU9BX9oxHZ",
        "outputId": "ad542259-55e2-4943-fdfb-524ea2677247"
      },
      "execution_count": null,
      "outputs": [
        {
          "output_type": "stream",
          "name": "stdout",
          "text": [
            "39\n"
          ]
        }
      ]
    },
    {
      "cell_type": "code",
      "source": [
        "print(3*4)"
      ],
      "metadata": {
        "colab": {
          "base_uri": "https://localhost:8080/"
        },
        "id": "ND11p9KJozeK",
        "outputId": "fe615189-1f78-4714-d938-b50336274d22"
      },
      "execution_count": null,
      "outputs": [
        {
          "output_type": "stream",
          "name": "stdout",
          "text": [
            "12\n"
          ]
        }
      ]
    },
    {
      "cell_type": "code",
      "source": [
        "print(36/6)"
      ],
      "metadata": {
        "colab": {
          "base_uri": "https://localhost:8080/"
        },
        "id": "ArErf3dHo1ch",
        "outputId": "18d0b4dd-1e87-4d81-9a13-e3338d315e14"
      },
      "execution_count": null,
      "outputs": [
        {
          "output_type": "stream",
          "name": "stdout",
          "text": [
            "6.0\n"
          ]
        }
      ]
    },
    {
      "cell_type": "markdown",
      "source": [
        "## Task 3. Using operators.\n",
        "1. Add number of of population of Monaco and San Marino.\n",
        "2. Subtract your age from the current year\n",
        "3. Multiply average number of your working hours per week and your timerate.\n",
        "4. Divide the population of Austria by its area.\n",
        "\n",
        "* *Please, find data to done this task by yourself.*"
      ],
      "metadata": {
        "id": "Vtn172-to7ga"
      }
    },
    {
      "cell_type": "markdown",
      "source": [
        "## Float\n",
        "As you see, result of dividing isn't **integer**. It has **Decimal point**. Data type, that have Decimal point named as **float**."
      ],
      "metadata": {
        "id": "edXXaDC8qyrm"
      }
    },
    {
      "cell_type": "code",
      "source": [
        "print(5/2)"
      ],
      "metadata": {
        "colab": {
          "base_uri": "https://localhost:8080/"
        },
        "id": "fk3Qxs5vqkdP",
        "outputId": "dec667fa-7324-47a6-d6c0-36232e31e970"
      },
      "execution_count": null,
      "outputs": [
        {
          "output_type": "stream",
          "name": "stdout",
          "text": [
            "2.5\n"
          ]
        }
      ]
    },
    {
      "cell_type": "markdown",
      "source": [
        "# Variables\n",
        "The most important concept in programming is **variable**.  \n",
        "**Variable** (in programming) is named cell of memory.  \n",
        "Variables in programming is a little similar to variables in math, but not equal.  \n",
        "  \n",
        "We would give some value to **variables**, and in future would take this value out.  It looks like memory cell in calculator."
      ],
      "metadata": {
        "id": "p40GAhtWrNuW"
      }
    },
    {
      "cell_type": "markdown",
      "source": [
        "![image.png](data:image/png;base64,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)"
      ],
      "metadata": {
        "id": "AsJ_eN_gsHh7"
      }
    },
    {
      "cell_type": "code",
      "source": [
        "a = 2\n",
        "b = 3\n",
        "c = a + b\n",
        "print(c)"
      ],
      "metadata": {
        "colab": {
          "base_uri": "https://localhost:8080/"
        },
        "id": "p4PY05wis2hL",
        "outputId": "4f47c327-1e6e-4f42-a884-ca5251a1ee2b"
      },
      "execution_count": null,
      "outputs": [
        {
          "output_type": "stream",
          "name": "stdout",
          "text": [
            "5\n"
          ]
        }
      ]
    },
    {
      "cell_type": "code",
      "source": [
        "s = \"Hello, World\"\n",
        "print(s)"
      ],
      "metadata": {
        "colab": {
          "base_uri": "https://localhost:8080/"
        },
        "id": "FB6RPaLytHIx",
        "outputId": "1469036c-7f65-407f-af6b-b7f36a05c3c2"
      },
      "execution_count": null,
      "outputs": [
        {
          "output_type": "stream",
          "name": "stdout",
          "text": [
            "Hello, World\n"
          ]
        }
      ]
    },
    {
      "cell_type": "markdown",
      "source": [
        "# Input\n",
        "We already know how to output data (print) and how to save data (give value to variables).  And we need to know how to input data from user.  \n",
        "Simplest mechanism of data input in **input** function"
      ],
      "metadata": {
        "id": "mC1_ze50tQwi"
      }
    },
    {
      "cell_type": "code",
      "source": [
        "s = input(\"Please, input your name\")\n",
        "print(\"Hello, \"+s)"
      ],
      "metadata": {
        "colab": {
          "base_uri": "https://localhost:8080/"
        },
        "id": "cMh_tJVruI55",
        "outputId": "8f774e7e-5548-4b40-c369-c238c49c889a"
      },
      "execution_count": null,
      "outputs": [
        {
          "output_type": "stream",
          "name": "stdout",
          "text": [
            "Please, input your nameMikhailo\n",
            "Hello, Mikhailo\n"
          ]
        }
      ]
    },
    {
      "cell_type": "code",
      "source": [
        "age = input(\"How old are you?\")\n",
        "print(\"You are \"+age)"
      ],
      "metadata": {
        "colab": {
          "base_uri": "https://localhost:8080/"
        },
        "id": "xVfCW8ezucP3",
        "outputId": "2cf35f7d-8329-4be8-ee8d-58b328ed914d"
      },
      "execution_count": null,
      "outputs": [
        {
          "output_type": "stream",
          "name": "stdout",
          "text": [
            "How old are you?38\n",
            "You are 38\n"
          ]
        }
      ]
    },
    {
      "cell_type": "markdown",
      "source": [
        "## Task 4 Input\n",
        "1. Input your name, and output greeting with you name.\n",
        "2. Input your age, and out put some message with your age."
      ],
      "metadata": {
        "id": "M10sNubbupxP"
      }
    },
    {
      "cell_type": "markdown",
      "source": [
        "## Concatenating of strings\n",
        "As you see, we unite two strings in one (\"Hello, \" and strings, which includes results of input). And we use \"+\" operator.  \n",
        "This operation name as concatenation."
      ],
      "metadata": {
        "id": "mPfKyk14u91G"
      }
    },
    {
      "cell_type": "markdown",
      "source": [
        "## Random function\n",
        "If you need some data to test your program you would take random values. Random values is very compotable to use, becouse  They are generated automatically.  \n",
        "For example, we need value for variable form 1900 to 2000 (numbers of year in 20 century). For this task we would use import random\n",
        "**randint** function."
      ],
      "metadata": {
        "id": "5uzc-4qhv3yd"
      }
    },
    {
      "cell_type": "code",
      "source": [
        "import random\n",
        "print(random.randint(1900, 2000))"
      ],
      "metadata": {
        "colab": {
          "base_uri": "https://localhost:8080/"
        },
        "id": "PCfE6xmPwvaB",
        "outputId": "b0c2636a-c0d4-495c-d72f-669db562d596"
      },
      "execution_count": null,
      "outputs": [
        {
          "output_type": "stream",
          "name": "stdout",
          "text": [
            "1918\n"
          ]
        }
      ]
    },
    {
      "cell_type": "markdown",
      "source": [
        "You would see, that every execution of program we get new value.  "
      ],
      "metadata": {
        "id": "8GmVIRxcwyRz"
      }
    },
    {
      "cell_type": "markdown",
      "source": [
        "## Task 5. Random generators\n",
        "1. Generte random 1 digit number.\n",
        "2. Generate number of days in may.\n",
        "3. Generate number of hours per day.\n",
        "4. Generate numbers of minutes in hour.\n",
        "5.* Generate time in mm:hh format."
      ],
      "metadata": {
        "id": "XnMzN07qxAMD"
      }
    },
    {
      "cell_type": "markdown",
      "source": [
        "# Linear program\n",
        "Linear program is a simples class of program, which define as program with step by step execution of operators.  \n",
        "Im folowing we are solving some linear programs."
      ],
      "metadata": {
        "id": "Q5UpSQKDyEjf"
      }
    },
    {
      "cell_type": "markdown",
      "source": [
        "1. Assign the variable a to its own value, increased by x times."
      ],
      "metadata": {
        "id": "dLxHwG4AymZo"
      }
    },
    {
      "cell_type": "code",
      "source": [
        "a = 2\n",
        "x = 3\n",
        "a = a*x\n",
        "print(a)"
      ],
      "metadata": {
        "colab": {
          "base_uri": "https://localhost:8080/"
        },
        "id": "sDUVCFi1yuVo",
        "outputId": "f1e56834-cbe2-4cbc-c085-458e3645d3af"
      },
      "execution_count": null,
      "outputs": [
        {
          "output_type": "stream",
          "name": "stdout",
          "text": [
            "6\n"
          ]
        }
      ]
    },
    {
      "cell_type": "markdown",
      "source": [
        "2. Two integers are given. Create a program to find:\n",
        "their arithmetic mean.\n",
        "3. Create a program for solving the linear equation a*x + b = 0\n",
        "4. Write a program to calculate the area and hypotenuse of a right triangle if its legs are known.\n",
        "5. Given the side of the square a. Create a program to find its perimeter\n",
        "6. Given the radius of the circle r. Write a program to find the circumference and area of ​​a circle\n",
        "7. Create a program for calculating the distance between points with coordinates entered randomly.\n",
        "8. Write a program to calculate the area of ​​a circle if its length is known."
      ],
      "metadata": {
        "id": "hf2g0jdQy2zQ"
      }
    },
    {
      "cell_type": "markdown",
      "source": [
        "# Digits of the number\n",
        "Some time we need to take digits form number. For take digits form number we would use modulo opertor in Python (**%**). For example, to take last digit from any number we would take the result of operation of modulo  by 10."
      ],
      "metadata": {
        "id": "8rE72IUnz1KA"
      }
    },
    {
      "cell_type": "code",
      "source": [
        "a = 456\n",
        "a1 = 456 % 10\n",
        "print(a1)"
      ],
      "metadata": {
        "colab": {
          "base_uri": "https://localhost:8080/"
        },
        "id": "dMxG85tg0plF",
        "outputId": "652b1066-7958-460b-8955-24f88e050305"
      },
      "execution_count": null,
      "outputs": [
        {
          "output_type": "stream",
          "name": "stdout",
          "text": [
            "6\n"
          ]
        }
      ]
    },
    {
      "cell_type": "markdown",
      "source": [
        "To take second digit in number we need two actions.  \n",
        "There are taking whole part of division by 10 and take modulo by 10."
      ],
      "metadata": {
        "id": "eXaeaUaU03ad"
      }
    },
    {
      "cell_type": "code",
      "source": [
        "a = 456\n",
        "a2 = 456 //10 % 10\n",
        "print(a2)"
      ],
      "metadata": {
        "colab": {
          "base_uri": "https://localhost:8080/"
        },
        "id": "r9ODRdvl16r6",
        "outputId": "6f4aff5c-5c66-46e4-ab39-dc017e960d72"
      },
      "execution_count": null,
      "outputs": [
        {
          "output_type": "stream",
          "name": "stdout",
          "text": [
            "5\n"
          ]
        }
      ]
    },
    {
      "cell_type": "markdown",
      "source": [
        "To take third digit in number we need two actions.  \n",
        "There are taking whole part of division by 100 and take modulo by 10."
      ],
      "metadata": {
        "id": "ZhWlno3W2FQZ"
      }
    },
    {
      "cell_type": "code",
      "source": [
        "a = 456\n",
        "a3 = 456 //100 % 10\n",
        "print(a3)"
      ],
      "metadata": {
        "colab": {
          "base_uri": "https://localhost:8080/"
        },
        "id": "Zgezt2dd2KX5",
        "outputId": "1f5a8356-7700-4711-d68f-41fc92acc770"
      },
      "execution_count": null,
      "outputs": [
        {
          "output_type": "stream",
          "name": "stdout",
          "text": [
            "4\n"
          ]
        }
      ]
    },
    {
      "cell_type": "markdown",
      "source": [
        "## Taks 6. Digits of the number\n",
        "1. Write a program that randomly assigns a two-digit number and displays the arithmetic mean of its digits."
      ],
      "metadata": {
        "id": "8c61RuIz2Pa8"
      }
    },
    {
      "cell_type": "code",
      "source": [
        "import random\n",
        "a = random.randint(10,99)\n",
        "print(a)\n",
        "a1 = a %10\n",
        "a2 = a//10%10\n",
        "c = a1+a2\n",
        "print(c)"
      ],
      "metadata": {
        "colab": {
          "base_uri": "https://localhost:8080/"
        },
        "id": "cC27Pwzx2g7S",
        "outputId": "ac90fddf-f6a3-4fb5-b910-dfdc922a48a9"
      },
      "execution_count": null,
      "outputs": [
        {
          "output_type": "stream",
          "name": "stdout",
          "text": [
            "72\n",
            "9\n"
          ]
        }
      ]
    },
    {
      "cell_type": "markdown",
      "source": [
        "2. Write a program that randomly assigns a three-digit number and displays the sum of the digits\n",
        "3. Create a program that randomly assigns a three-digit number and displays the sum of the last and penultimate digits.\n",
        "4.  Create a program that randomly assigns a three-digit number and displays the sum of last and first digits.\n",
        "5. * A three-digit number is given. Write a program to find the number obtained by interchanging the second and third digits of a given number.\n"
      ],
      "metadata": {
        "id": "BLMDkoWh2wm5"
      }
    },
    {
      "cell_type": "markdown",
      "source": [
        "# Conditions (If statements)\n",
        "Some times, we need to execute diffirent operators, depend some values. For example, we have temperature of water from -20°C to 20°C and by this we display name of state of aggregation (ice or water).  \n",
        "For this case we would use **if statement** as folow:\n",
        "\n"
      ],
      "metadata": {
        "id": "_jWWL_jW332P"
      }
    },
    {
      "cell_type": "code",
      "source": [
        "import random\n",
        "temperature = random.randint(-20,20)\n",
        "print(temperature)\n",
        "if temperature < 0:\n",
        "  print(\"This is ice.\")\n",
        "if temperature >= 0:\n",
        "  print(\"This is water.\")"
      ],
      "metadata": {
        "colab": {
          "base_uri": "https://localhost:8080/"
        },
        "id": "hlgLeigD5ip9",
        "outputId": "43f9ca8e-6a73-42c6-e481-5f068bb40359"
      },
      "execution_count": null,
      "outputs": [
        {
          "output_type": "stream",
          "name": "stdout",
          "text": [
            "-1\n",
            "This is ice.\n"
          ]
        }
      ]
    },
    {
      "cell_type": "markdown",
      "source": [
        "## Task 7.\n",
        "1. Two numbers are given at random. Print the largest of them.\n"
      ],
      "metadata": {
        "id": "aj-MecWW6L8G"
      }
    },
    {
      "cell_type": "code",
      "source": [
        "import random\n",
        "a = random.randint(0,20)\n",
        "b = random.randint(0,20)\n",
        "print(a,b)\n",
        "if a>=b:\n",
        "  print(a)\n",
        "if b>a:\n",
        "  print(b)\n"
      ],
      "metadata": {
        "colab": {
          "base_uri": "https://localhost:8080/"
        },
        "id": "PeP76lNv6R08",
        "outputId": "02fdf6e0-a061-4966-81e5-29002394e5ca"
      },
      "execution_count": null,
      "outputs": [
        {
          "output_type": "stream",
          "name": "stdout",
          "text": [
            "8 10\n",
            "10\n"
          ]
        }
      ]
    },
    {
      "cell_type": "markdown",
      "source": [
        "2. Write a program to determine whether **n** is an even two-digit number. n is set randomly\n",
        "3. Write a program to determine whether **n** is a multiple of 4."
      ],
      "metadata": {
        "id": "fhihq7Eg6mAi"
      }
    },
    {
      "cell_type": "code",
      "source": [
        "import random\n",
        "n = random.randint(-20,20)\n",
        "if n%4 == 0:\n",
        "  print(f\"{n} is a multiple of 4\")\n",
        "else:\n",
        "  print(f\"{n} is not multiple of 4\")\n"
      ],
      "metadata": {
        "colab": {
          "base_uri": "https://localhost:8080/"
        },
        "id": "Df7YAZ067HPR",
        "outputId": "06d094b5-daf6-4a5b-d560-97b580b4b2fc"
      },
      "execution_count": null,
      "outputs": [
        {
          "output_type": "stream",
          "name": "stdout",
          "text": [
            "13 is not a multiple of 4\n"
          ]
        }
      ]
    },
    {
      "cell_type": "markdown",
      "source": [
        "4. Write a program to determine whether **n** is positive and a multiple of 4."
      ],
      "metadata": {
        "id": "XIAmOmKI7hoq"
      }
    },
    {
      "cell_type": "code",
      "source": [
        "import random\n",
        "n = random.randint(-20,20)\n",
        "if (n%4 == 0) and (n>0):\n",
        "  print(f\"{n} is positive and a multiple of 4\")\n",
        "else:\n",
        "  print(f\"{n} is not positive or is not a multiple of 4\")"
      ],
      "metadata": {
        "colab": {
          "base_uri": "https://localhost:8080/"
        },
        "id": "kOlpntPG6_3c",
        "outputId": "f7568659-3c10-435d-9f30-ba70e3e0b88e"
      },
      "execution_count": null,
      "outputs": [
        {
          "output_type": "stream",
          "name": "stdout",
          "text": [
            "16 is positive and a multiple of 4\n"
          ]
        }
      ]
    },
    {
      "cell_type": "markdown",
      "source": [
        "5. Write a program that asks for the time of day and displays the appropriate greeting (good morning, good day, good afternoon, good night).\n",
        "6. Create a program to check whether the year is a leap year.\n",
        "7. Determine whether n is a multiple of 2 and 3 or not.\n",
        "8. Write a program to determine whether n is an even two-digit number.\n",
        "9. * Create a program for finding a solution to the equation *ax=b*."
      ],
      "metadata": {
        "id": "souK-XHU8P6J"
      }
    },
    {
      "cell_type": "markdown",
      "source": [
        "# Loops\n",
        "Some time we need to repeat some operators. For this case we would to use Loop statement. For example to displat numbers form 0 to 9 as folow"
      ],
      "metadata": {
        "id": "TvziyNl19ceV"
      }
    },
    {
      "cell_type": "code",
      "source": [
        "for element in range(10):\n",
        "  print(element)"
      ],
      "metadata": {
        "colab": {
          "base_uri": "https://localhost:8080/"
        },
        "id": "wwyY4Rdh93A0",
        "outputId": "0928adfd-c203-47e5-cc82-6e06aae659d4"
      },
      "execution_count": null,
      "outputs": [
        {
          "output_type": "stream",
          "name": "stdout",
          "text": [
            "0\n",
            "1\n",
            "2\n",
            "3\n",
            "4\n",
            "5\n",
            "6\n",
            "7\n",
            "8\n",
            "9\n"
          ]
        }
      ]
    },
    {
      "cell_type": "markdown",
      "source": [
        "# Sum calculations\n",
        "If we need to computing sum of some number series we use algoruthom like folow:\n"
      ],
      "metadata": {
        "id": "SeU4hGv--FSk"
      }
    },
    {
      "cell_type": "code",
      "source": [
        "sum = 0\n",
        "for element in range(10):\n",
        "  sum += element\n",
        "  print(element)\n",
        "print(sum)"
      ],
      "metadata": {
        "colab": {
          "base_uri": "https://localhost:8080/"
        },
        "id": "3O2nsu9R-XPj",
        "outputId": "9de8f6f7-7ded-46dd-c5b9-746bc2fb719c"
      },
      "execution_count": null,
      "outputs": [
        {
          "output_type": "stream",
          "name": "stdout",
          "text": [
            "0\n",
            "1\n",
            "2\n",
            "3\n",
            "4\n",
            "5\n",
            "6\n",
            "7\n",
            "8\n",
            "9\n",
            "45\n"
          ]
        }
      ]
    },
    {
      "cell_type": "markdown",
      "source": [
        "# Create source of data\n",
        "Like example of source of data we would take a table, that describe our life circle balance. It would be like folows:"
      ],
      "metadata": {
        "id": "ASSA-bwYguvY"
      }
    },
    {
      "cell_type": "markdown",
      "source": [
        "![image.png](data:image/png;base64,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)"
      ],
      "metadata": {
        "id": "2OlbJVpDiCIk"
      }
    },
    {
      "cell_type": "markdown",
      "source": [
        "There is my life circle balance. Please, fill in your data!  \n",
        "After filling in data, let take data from this kind of source."
      ],
      "metadata": {
        "id": "9JRhoiH_iI-H"
      }
    },
    {
      "cell_type": "code",
      "source": [
        "from google.colab import drive\n",
        "drive.mount('/content/drive')"
      ],
      "metadata": {
        "colab": {
          "base_uri": "https://localhost:8080/"
        },
        "id": "rjtAV1P8ia87",
        "outputId": "8bcb75e2-5a75-40ab-bf25-3ab9ddcb6eac"
      },
      "execution_count": null,
      "outputs": [
        {
          "output_type": "stream",
          "name": "stdout",
          "text": [
            "Drive already mounted at /content/drive; to attempt to forcibly remount, call drive.mount(\"/content/drive\", force_remount=True).\n"
          ]
        }
      ]
    },
    {
      "cell_type": "code",
      "source": [
        "file_path = '/content/drive/MyDrive/ds/Circle3.csv'"
      ],
      "metadata": {
        "id": "nZqvY72fjcDx"
      },
      "execution_count": null,
      "outputs": []
    },
    {
      "cell_type": "code",
      "source": [
        "import csv"
      ],
      "metadata": {
        "id": "9NOsxWOUji-3"
      },
      "execution_count": null,
      "outputs": []
    },
    {
      "cell_type": "code",
      "source": [
        "import pandas as pd\n",
        "data = pd.read_csv(file_path)\n",
        "print(data)"
      ],
      "metadata": {
        "colab": {
          "base_uri": "https://localhost:8080/"
        },
        "id": "DWMbflXRjq1w",
        "outputId": "281903bc-42f3-4512-a55e-c46eb48043dd"
      },
      "execution_count": null,
      "outputs": [
        {
          "output_type": "stream",
          "name": "stdout",
          "text": [
            "                           Sphere  \\\n",
            "0                          Career   \n",
            "1                        Finances   \n",
            "2                          Family   \n",
            "3                     Environment   \n",
            "4  Self Development \\n(education)   \n",
            "5       Traveling, new abbilities   \n",
            "6                            Rest   \n",
            "7                   Health, sport   \n",
            "8                             NaN   \n",
            "\n",
            "                                               Dream  Points  \\\n",
            "0            Head of National Scientific organsation       5   \n",
            "1  Assetes 1 million Euro and 20k Euro personal i...       8   \n",
            "2   Happines, full time with childrens, 3rd children       7   \n",
            "3  Abbility to solve conflicrts. A lot of idea-dr...       9   \n",
            "4  C1 in English, German. Ph.D. degree. Sucess in...       5   \n",
            "5  Take part in public events on global level (UN...       8   \n",
            "6                     1 hour per day for meditation.       7   \n",
            "7  Health of all my system. 5-6 hours per week fo...       9   \n",
            "8                                                NaN      58   \n",
            "\n",
            "                                                Goal  Priority  \n",
            "0  Ph.D. Degree.\\nIT-Sertificaton project on Nati...       2.0  \n",
            "1  Take scientific grant for 1 mln Euros.\\nStart-...       1.0  \n",
            "2                                                NaN       3.0  \n",
            "3                                                NaN       7.0  \n",
            "4                                                NaN       4.0  \n",
            "5                                                NaN       8.0  \n",
            "6                                                NaN       5.0  \n",
            "7                                                NaN       6.0  \n",
            "8                                                NaN       NaN  \n"
          ]
        }
      ]
    },
    {
      "cell_type": "code",
      "source": [
        "print(data['Points'])\n",
        "points = data['Points']\n",
        "sum = 0\n",
        "for el in range(len(points)-1):\n",
        "  print(points[el])\n",
        "  sum +=points[el]\n",
        "print(f\"sum is {sum}\")"
      ],
      "metadata": {
        "colab": {
          "base_uri": "https://localhost:8080/"
        },
        "id": "4mq75rgqj5of",
        "outputId": "8fa11f9f-2a24-4283-c16e-25bfa83c707a"
      },
      "execution_count": null,
      "outputs": [
        {
          "output_type": "stream",
          "name": "stdout",
          "text": [
            "0     5\n",
            "1     8\n",
            "2     7\n",
            "3     9\n",
            "4     5\n",
            "5     8\n",
            "6     7\n",
            "7     9\n",
            "8    58\n",
            "Name: Points, dtype: int64\n",
            "5\n",
            "8\n",
            "7\n",
            "9\n",
            "5\n",
            "8\n",
            "7\n",
            "9\n",
            "sum is 58\n"
          ]
        }
      ]
    }
  ]
}